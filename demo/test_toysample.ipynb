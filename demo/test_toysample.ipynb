{
 "cells": [
  {
   "cell_type": "markdown",
   "metadata": {},
   "source": [
    "## A simple analytical PointNetLK example"
   ]
  },
  {
   "cell_type": "markdown",
   "metadata": {},
   "source": [
    "Load packages."
   ]
  },
  {
   "cell_type": "code",
   "execution_count": 1,
   "metadata": {},
   "outputs": [
    {
     "name": "stdout",
     "output_type": "stream",
     "text": [
      "Jupyter environment detected. Enabling Open3D WebVisualizer.\n",
      "[Open3D INFO] WebRTC GUI backend enabled.\n",
      "[Open3D INFO] WebRTCWindowSystem: HTTP handshake server disabled.\n",
      "[Open3D INFO] WebRTC GUI backend enabled.\n",
      "[Open3D INFO] Resetting default logger to print to terminal.\n"
     ]
    }
   ],
   "source": [
    "# !pip install git+git://github.com/Lilac-Lee/PointNetLK_Revisited\n",
    "\n",
    "import argparse\n",
    "import os\n",
    "import sys\n",
    "import numpy as np\n",
    "import torch\n",
    "import torch.utils.data\n",
    "import torchvision\n",
    "\n",
    "# visualize the point cloud\n",
    "import open3d as o3d\n",
    "# open3d>=0.13.0, otherwise, comment line below\n",
    "o3d.visualization.webrtc_server.enable_webrtc()\n",
    "\n",
    "sys.path.insert(0, '../')\n",
    "import data_utils\n",
    "import trainer"
   ]
  },
  {
   "cell_type": "markdown",
   "metadata": {},
   "source": [
    "Initialize some testing and network parameters as arguments."
   ]
  },
  {
   "cell_type": "code",
   "execution_count": 2,
   "metadata": {},
   "outputs": [],
   "source": [
    "args = argparse.Namespace()\n",
    "\n",
    "# dimension for the PointNet embedding\n",
    "args.dim_k = 1024\n",
    "\n",
    "# device: cuda/cpu\n",
    "# args.device = 'cuda:0'\n",
    "args.device = 'cpu'\n",
    "\n",
    "# maximum iterations for the LK\n",
    "args.max_iter = 120\n",
    "\n",
    "# embedding function: pointnet\n",
    "args.embedding = 'pointnet'\n",
    "\n",
    "# output log file name\n",
    "args.outfile = 'toyexample_2021_04_17'\n",
    "\n",
    "# specify data type: real\n",
    "args.data_type = 'real'\n",
    "\n",
    "# specify visualize result or not\n",
    "args.vis = True"
   ]
  },
  {
   "cell_type": "markdown",
   "metadata": {},
   "source": [
    "Get toy example point cloud pairs, and ground truth rigid pose.\n",
    "Set some voxelization related parameters."
   ]
  },
  {
   "cell_type": "code",
   "execution_count": 3,
   "metadata": {},
   "outputs": [],
   "source": [
    "# load data\n",
    "p0 = np.load('./p0.npy')[np.newaxis,...]\n",
    "p1 = np.load('./p1.npy')[np.newaxis,...]\n",
    "\n",
    "# randomly set the twist parameters for the ground truth pose\n",
    "x = np.array([[0.57, -0.29, 0.73, -0.37, 0.48, -0.54]])\n",
    "\n",
    "# set voxelization parameters\n",
    "voxel_ratio = 0.05\n",
    "voxel = 2\n",
    "max_voxel_points = 1000\n",
    "num_voxels = 8\n",
    "\n",
    "# construct the testing dataset\n",
    "testset = data_utils.ToyExampleData(p0, p1, voxel_ratio, voxel, max_voxel_points, num_voxels, x, args.vis)"
   ]
  },
  {
   "cell_type": "markdown",
   "metadata": {},
   "source": [
    "Create the model class, load the pre-trained model, and begin testing!"
   ]
  },
  {
   "cell_type": "code",
   "execution_count": null,
   "metadata": {},
   "outputs": [
    {
     "name": "stderr",
     "output_type": "stream",
     "text": [
      "\r",
      "  0%|                                              | 0/1 [00:00<?, ?it/s]"
     ]
    }
   ],
   "source": [
    "# create model\n",
    "dptnetlk = trainer.TrainerAnalyticalPointNetLK(args)\n",
    "model = dptnetlk.create_model()\n",
    "\n",
    "# specify device\n",
    "if not torch.cuda.is_available():\n",
    "    args.device = 'cpu'\n",
    "args.device = torch.device(args.device)\n",
    "model.to(args.device)\n",
    "\n",
    "# load pre-trained model\n",
    "model.load_state_dict(torch.load('../logs/model_trained_on_ModelNet40_model_best.pth', map_location='cpu'))\n",
    "\n",
    "# testloader\n",
    "testloader = torch.utils.data.DataLoader(testset, batch_size=1, shuffle=False, num_workers=0, drop_last=False)\n",
    "\n",
    "# begin testing\n",
    "dptnetlk.test_one_epoch(model, testloader, args.device, 'test', args.data_type, args.vis, toyexample=True)"
   ]
  }
 ],
 "metadata": {
  "kernelspec": {
   "display_name": "Python 3",
   "language": "python",
   "name": "python3"
  },
  "language_info": {
   "codemirror_mode": {
    "name": "ipython",
    "version": 3
   },
   "file_extension": ".py",
   "mimetype": "text/x-python",
   "name": "python",
   "nbconvert_exporter": "python",
   "pygments_lexer": "ipython3",
   "version": "3.8.5"
  }
 },
 "nbformat": 4,
 "nbformat_minor": 2
}
